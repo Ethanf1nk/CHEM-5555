{
 "cells": [
  {
   "cell_type": "markdown",
   "metadata": {},
   "source": [
    "**Computing basics: variables, strings, numbers, and functions.**\n",
    "\n",
    "All computer programs do the following:\n",
    "\n",
    "* **Initalize**: This is the part of the program that initalizes the state of the program. This can include variable definitions, function definitions, and so on. It also allocates memory for the calculation. Usually, this is where you will set parameters for a calculation, like temperature, number of particles, and so on.\n",
    "\n",
    "In this phase, the computer primarily *reads data*, either from direct input by the user, which may be interactive, or from a file.\n",
    "\n",
    "* **Compute**: This is the part of the program that does the calculation. Functions get executed, and the program state changes. \n",
    "\n",
    "In this phase the computer is *manipulating data*\n",
    "\n",
    "* **Clean up and write**: Memory and disk space gets freed, and data gets written to the disk or to the screen.\n",
    "\n",
    "Evidently, in this phase of the calculation, you're *writing data*.\n",
    "\n",
    "All computer programs do these things. Good computer languages keep most implementation details hidden from the user."
   ]
  },
  {
   "cell_type": "markdown",
   "metadata": {},
   "source": [
    "Since computers read, manipulate, and write data. We need to talk a bit about data and data types. \n",
    "\n",
    "On a digital computer, all data corresponds to strings of zeros and ones. Each zero or one is called a *bit* and a series of zeros and ones is called a *bitstream*. \n",
    "\n",
    "The bit is an answer to a yes or no question, and is the most fundamental piece of *information*. If there is a piece of data that cannot be *digitized*, or represented by zeros and ones, I don't know of it.\n",
    "\n",
    "Numbers are sort of obvious. I can create 0 or 1 with just a zero or one. Indeed, the numbers 1 and 0 usually stand for **true** or **false**---the elements of boolean logic. The **datatype** of a single bit is called a **bool**, since the single bit is the fundamental element of *boolean logic.* Julia supports the words true and false, or the more C-style 0 and 1:"
   ]
  },
  {
   "cell_type": "code",
   "execution_count": 2,
   "metadata": {},
   "outputs": [
    {
     "name": "stdout",
     "output_type": "stream",
     "text": [
      "typeof(yes) = Bool\n",
      "typeof(no) = Bool\n",
      "yes == 1 = true\n",
      "no == 0 = true\n"
     ]
    },
    {
     "data": {
      "text/plain": [
       "true"
      ]
     },
     "metadata": {},
     "output_type": "display_data"
    }
   ],
   "source": [
    "yes = true\n",
    "no = false\n",
    "\n",
    "@show typeof(yes)\n",
    "@show typeof(no)\n",
    "\n",
    "@show yes == 1\n",
    "@show no == 0"
   ]
  },
  {
   "cell_type": "markdown",
   "metadata": {},
   "source": [
    "Next up is a number. Numbers are bitstreams composed like so:\n",
    "\n",
    "We've already discussed how to represent 0 and 1. How about the other numbers, 0-9?\n",
    "\n",
    "Well, one bit isn't going to do it. But note that I can count from zero to three with two bits:\n",
    "\n",
    "* 00 = 0.\n",
    "* 01 = 1.\n",
    "* 10 = 2.\n",
    "* 11 = 3.\n",
    "\n",
    "Encoding numbers in this way is called **binary**, and there is a math associated with binary which may look familiar to you. In my representation, the most significant bit is on the left and the least is on the right. These data are literally encoded into **memory addresses**, but conventions can differ about whether the most significant bit (MSB) comes first or last. One convention is called *big endian* and the other is called *little endian.* Sometimes it is important to know which convention your computer is using, but it usually isn't.\n",
    "\n",
    "Now, back to the original proposition: How do I make any number from 0-9 from a binary alphabet? Well, I just keep running the same routine. For $n$ bits, I can construct a $2^n$ messages, where each message is a sequence of bits. To get ten symbols, I need $n$ bits such that:\n",
    "\n",
    "$2^n = 10$\n",
    "\n",
    "or \n",
    "\n",
    "$n = log_2(10)$.\n",
    "\n",
    "Fortunately $log_2$ is a native function in Julia:"
   ]
  },
  {
   "cell_type": "code",
   "execution_count": 14,
   "metadata": {},
   "outputs": [
    {
     "name": "stdout",
     "output_type": "stream",
     "text": [
      "log2(10) = 3.321928094887362\n"
     ]
    },
    {
     "data": {
      "text/plain": [
       "3.321928094887362"
      ]
     },
     "metadata": {},
     "output_type": "display_data"
    }
   ],
   "source": [
    "@show log2(10)\n"
   ]
  },
  {
   "cell_type": "markdown",
   "metadata": {},
   "source": [
    "Since I need an integer number of bits, I need 4 bits to store all numbers. But note that $2^4 = 16$, so there will be some left over. 4 bits in fact stores the numbers 0 through 9, and assigns the rest to the letters A,B,C,D,E,F, for a total of 16 messages. This base-16 number system, which is natural to a computer but not to us, is called *hexadecimal.*\n",
    "\n",
    "The details of how a computer goes from hexadecimal to base-10 are not important for this class, but there is an act of translation.\n",
    "\n",
    "Modern memory addresses are not in terms of bits, but in *bytes.* A byte is 8 bits.\n",
    "\n",
    "Using a byte, you can compose $2^8 = 256$ messages.\n",
    "\n",
    "This means that a memory address---one byte---can store an integer from 0 to 255. On Julia this is Int8."
   ]
  },
  {
   "cell_type": "code",
   "execution_count": 15,
   "metadata": {},
   "outputs": [
    {
     "name": "stdout",
     "output_type": "stream",
     "text": [
      "typeof(i₈) = Int8\n"
     ]
    },
    {
     "data": {
      "text/plain": [
       "Int8"
      ]
     },
     "metadata": {},
     "output_type": "display_data"
    }
   ],
   "source": [
    "i₈ = 1\n",
    "i₈ = convert(Int8, i₈)\n",
    "@show typeof(i₈)"
   ]
  },
  {
   "cell_type": "markdown",
   "metadata": {},
   "source": [
    "Numbers this small aren't generally useful for calculations. If you try to move outside this range of 0-255, you're going to be in trouble for obvious reasons. The error you see is an **InexactError**, meaning that you can't store the number you want to in the datatype you are trying to use:"
   ]
  },
  {
   "cell_type": "code",
   "execution_count": 17,
   "metadata": {},
   "outputs": [
    {
     "ename": "InexactError",
     "evalue": "InexactError: trunc(Int8, 256)",
     "output_type": "error",
     "traceback": [
      "InexactError: trunc(Int8, 256)\n",
      "\n",
      "Stacktrace:\n",
      " [1] throw_inexacterror(::Symbol, ::Vararg{Any})\n",
      "   @ Core ./boot.jl:750\n",
      " [2] checked_trunc_sint\n",
      "   @ ./boot.jl:764 [inlined]\n",
      " [3] toInt8\n",
      "   @ ./boot.jl:779 [inlined]\n",
      " [4] Int8\n",
      "   @ ./boot.jl:889 [inlined]\n",
      " [5] convert(::Type{Int8}, x::Int64)\n",
      "   @ Base ./number.jl:7\n",
      " [6] top-level scope\n",
      "   @ ~/github/CHEM-5555/jl_notebook_cell_df34fa98e69747e1a8f8a730347b8e2f_X25sZmlsZQ==.jl:2"
     ]
    }
   ],
   "source": [
    "errorbit = 256\n",
    "errorbit = convert(Int8, errorbit)\n",
    "@show typeof(errorbit)"
   ]
  },
  {
   "cell_type": "markdown",
   "metadata": {},
   "source": [
    "This competition between required precision and memory cost for all different types of numbers. \n",
    "\n",
    "The most frequently used datatypes for numbers are:\n",
    "\n",
    "+ Int16\n",
    "+ Int32\n",
    "+ Int64\n",
    "+ Float32\n",
    "+ Float64\n",
    "\n",
    "Integers are integers, and Int16 is a 16-bit integer. A floating point number is a *noninteger rational number* that a computer will *truncate* at some *precision* so that it can represent it digitally. If you are not careful, you can get *roundoff error* due to this trunction.\n",
    "\n",
    "Let's take these issues one at a time."
   ]
  },
  {
   "cell_type": "markdown",
   "metadata": {},
   "source": [
    "First, the representaiton of a 32-bit rational number follows this convention from IEEE:\n",
    "\n",
    "<div style=\"background-color: white;\">\n",
    "    <img src=\"Float_example.svg.png\" alt=\"Figure 1: Representing a rational number using 32-bit logic. A 32-bit number is called a 'double.' Most CPUs are 64-bit processors, so Float64 is probably native on your CPU. On many GPUs, Float32 is the native data type.\">\n",
    "</div>"
   ]
  },
  {
   "cell_type": "markdown",
   "metadata": {},
   "source": [
    "\n",
    "The Float32 representation truncates π after 7 decimal places, while Float64 maintains precision to 15 decimal places. This demonstrates how increased bits allows for greater numerical precision in representing irrational numbers."
   ]
  },
  {
   "cell_type": "code",
   "execution_count": 1,
   "metadata": {},
   "outputs": [
    {
     "name": "stdout",
     "output_type": "stream",
     "text": [
      "π as Float32: 3.1415927\n",
      "π as Float64: 3.141592653589793\n"
     ]
    }
   ],
   "source": [
    "println(\"π as Float32: \", Float32(π))\n",
    "println(\"π as Float64: \", Float64(π))"
   ]
  },
  {
   "cell_type": "markdown",
   "metadata": {},
   "source": [
    "Floating point error, or roundoff error, can be hard to track down, but you should be very suspicious when you start seeing numbers like 1.3425394...e-16. Those numbers are usually zero to numerical precision, and when you see them, you likely have some roundoff errors somewhere."
   ]
  }
 ],
 "metadata": {
  "kernelspec": {
   "display_name": "Julia 1.11.2",
   "language": "julia",
   "name": "julia-1.11"
  },
  "language_info": {
   "file_extension": ".jl",
   "mimetype": "application/julia",
   "name": "julia",
   "version": "1.11.2"
  }
 },
 "nbformat": 4,
 "nbformat_minor": 2
}
