{
 "cells": [
  {
   "cell_type": "code",
   "execution_count": 1,
   "metadata": {},
   "outputs": [
    {
     "name": "stderr",
     "output_type": "stream",
     "text": [
      "\u001b[32m\u001b[1m  Activating\u001b[22m\u001b[39m project at `~/github/CHEM-5555/Numerical Solutions to Differential Equations`\n"
     ]
    },
    {
     "name": "stdout",
     "output_type": "stream",
     "text": [
      "\u001b[32m\u001b[1mStatus\u001b[22m\u001b[39m `~/github/CHEM-5555/Numerical Solutions to Differential Equations/Project.toml`\n",
      "  \u001b[90m[5fb14364] \u001b[39mOhMyREPL v0.5.28\n",
      "  \u001b[90m[91a5bcdd] \u001b[39mPlots v1.40.9\n",
      "  \u001b[90m[295af30f] \u001b[39mRevise v3.7.2\n",
      "  \u001b[90m[f2b01f46] \u001b[39mRoots v2.2.4\n",
      "  \u001b[90m[3a884ed6] \u001b[39mUnPack v1.0.2\n"
     ]
    }
   ],
   "source": [
    "using Pkg\n",
    "Pkg.activate(\".\")\n",
    "Pkg.instantiate()\n",
    "Pkg.status()"
   ]
  },
  {
   "cell_type": "code",
   "execution_count": 2,
   "metadata": {},
   "outputs": [],
   "source": [
    "include(\"JDE_ODE_Base.jl\")\n",
    "using .JDE_ODE_Base\n",
    "import .JDE_ODE_Base: step"
   ]
  },
  {
   "cell_type": "code",
   "execution_count": 2,
   "metadata": {},
   "outputs": [
    {
     "data": {
      "text/plain": [
       "step (generic function with 2 methods)"
      ]
     },
     "metadata": {},
     "output_type": "display_data"
    }
   ],
   "source": [
    "#Method implementation for Forward Euler\n",
    "\n",
    "struct ForwardEuler <: ODEIntegrator end\n",
    "function step(problem::ODEProblem, ::ForwardEuler, yₙ::Float64, tₙ::Float64)\n",
    "    @unpack f, h = problem\n",
    "    return yₙ + h*f(yₙ,tₙ)\n",
    "end\n",
    "\n",
    "#Method implementation for Backward Euler\n",
    "struct BackwardEuler <: ODEIntegrator end\n",
    "function step(problem::ODEProblem,::BackwardEuler, yₙ::Float64, tₙ::Float64)\n",
    "    #Implement the Backward Euler method.\n",
    "end"
   ]
  },
  {
   "cell_type": "code",
   "execution_count": null,
   "metadata": {},
   "outputs": [],
   "source": [
    "#Test your forward and backward Euler methods."
   ]
  }
 ],
 "metadata": {
  "kernelspec": {
   "display_name": "Julia 1.11.2",
   "language": "julia",
   "name": "julia-1.11"
  },
  "language_info": {
   "file_extension": ".jl",
   "mimetype": "application/julia",
   "name": "julia",
   "version": "1.11.2"
  }
 },
 "nbformat": 4,
 "nbformat_minor": 2
}
